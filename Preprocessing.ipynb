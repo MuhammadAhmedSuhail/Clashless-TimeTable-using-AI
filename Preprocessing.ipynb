{
 "cells": [
  {
   "cell_type": "code",
   "execution_count": 1,
   "metadata": {},
   "outputs": [],
   "source": [
    "import pandas as pd\n",
    "import numpy as np"
   ]
  },
  {
   "attachments": {},
   "cell_type": "markdown",
   "metadata": {},
   "source": [
    "    Preprocessing"
   ]
  },
  {
   "cell_type": "code",
   "execution_count": 2,
   "metadata": {},
   "outputs": [],
   "source": [
    "all_rooms = []\n",
    "all_slots = []"
   ]
  },
  {
   "cell_type": "code",
   "execution_count": 3,
   "metadata": {},
   "outputs": [],
   "source": [
    "df = pd.read_excel(\"TimeTable, FSC, Spring-2023.xlsx\",sheet_name=\"Monday\")\n",
    "df = df.iloc[:39]       #Remove Labs from dataFrame\n",
    "\n",
    "df = df.drop(columns=df.filter(like='Unnamed').columns)"
   ]
  },
  {
   "cell_type": "code",
   "execution_count": 4,
   "metadata": {},
   "outputs": [],
   "source": [
    "monday = df[\"Monday\"].to_list()\n",
    "\n",
    "for i in monday:\n",
    "    if str(i) == \"nan\" or str(i) == \"Room\":\n",
    "        continue\n",
    "    else:\n",
    "        all_rooms.append(i)"
   ]
  },
  {
   "cell_type": "code",
   "execution_count": 5,
   "metadata": {},
   "outputs": [
    {
     "data": {
      "text/plain": [
       "'05:20-06:40 '"
      ]
     },
     "execution_count": 5,
     "metadata": {},
     "output_type": "execute_result"
    }
   ],
   "source": [
    "row = df.iloc[[3]]\n",
    "cols = df.columns.to_list()[1:]\n",
    "\n",
    "for i in cols:\n",
    "    all_slots.append(list(row[i])[0])\n",
    "\n",
    "all_slots.pop()\n",
    "all_slots.pop()"
   ]
  },
  {
   "cell_type": "code",
   "execution_count": 6,
   "metadata": {},
   "outputs": [],
   "source": [
    "def correctFormatting(name):\n",
    "\n",
    "    if name[-1] == \" \":\n",
    "        name = name.rstrip(name[-1])\n",
    "\n",
    "    name = name.replace(\"/\",\" \").replace(\"  \",\" \")\n",
    "\n",
    "    if name.find(\"(\") == -1:\n",
    "        return name\n",
    "    else:\n",
    "        x = name.split(\" \")\n",
    "        final_name = \"\"\n",
    "        for i in x:\n",
    "            if i[0] == \"(\":\n",
    "                final_name = final_name.rstrip(final_name[-1])\n",
    "                return final_name\n",
    "            else:\n",
    "                final_name += i\n",
    "                final_name += \" \"\n",
    "\n",
    "\n",
    "checking_dict = {}\n",
    "def checkDict(name):\n",
    "    if name in checking_dict:\n",
    "        return True\n",
    "    else:\n",
    "        return False\n",
    "\n",
    "def correctCourseName(name):\n",
    "    flag = checkDict(name)\n",
    "\n",
    "    if flag:\n",
    "        return checking_dict[name]\n",
    "\n",
    "\n",
    "    x = name.split(' ')\n",
    "    final_name = \"\"\n",
    "\n",
    "    if len(x) == 1:\n",
    "        return name\n",
    "    \n",
    "    for y in range(0,len(x)):\n",
    "\n",
    "        if x[y].lower() == \"and\" or x[y].lower() == \"of\" or x[y].lower() == \"to\":\n",
    "            continue\n",
    "\n",
    "        if x[y].lower() == \"database\":\n",
    "            final_name += \"DB\"\n",
    "            continue\n",
    "\n",
    "        if x[y].lower() == \"mlops\" or x[y].lower() == \"devops\":\n",
    "            return name\n",
    "            \n",
    "\n",
    "        final_name += x[y][0]\n",
    "\n",
    "    return final_name.upper()"
   ]
  },
  {
   "attachments": {},
   "cell_type": "markdown",
   "metadata": {},
   "source": [
    "    Computing Courses"
   ]
  },
  {
   "cell_type": "code",
   "execution_count": 7,
   "metadata": {},
   "outputs": [],
   "source": [
    "computing_df = pd.read_csv(\"computing.csv\")\n",
    "\n",
    "computing_df = computing_df.iloc[1:]\n",
    "computing_df.columns = computing_df.iloc[0]\n",
    "computing_df = computing_df.iloc[1:]\n",
    "computing_df = computing_df.iloc[:, : 6]\n",
    "\n",
    "computing_df.drop(columns=[\"CHs\",\"Code\"],axis=1,inplace=True)"
   ]
  },
  {
   "cell_type": "code",
   "execution_count": 8,
   "metadata": {},
   "outputs": [],
   "source": [
    "comp_trans_dfs = []\n",
    "curs = np.nan\n",
    "batch = np.nan\n",
    "\n",
    "for i in range(0,computing_df.shape[0]):\n",
    "    row = computing_df.iloc[i]\n",
    "\n",
    "    if str(row[\"S.#\"]) != \"nan\":    #Section Started\n",
    "        batch = str(row[\"S.#\"])\n",
    "        for_name = correctFormatting(str(computing_df.iloc[i+1][\"Course\"]))\n",
    "        curs = correctCourseName(for_name)\n",
    "\n",
    "    else:\n",
    "        if str(row[\"Course\"]).find(\"MS Thesis\") == -1:\n",
    "            \n",
    "            section = str(row[\"Section\"])        \n",
    "            inst = str(row[\"Course Instructor\"])\n",
    "\n",
    "            if str(row[\"Course\"]) == \"nan\":\n",
    "                comp_trans_dfs.append((curs,section,inst,batch))\n",
    "            else:\n",
    "                for_name = correctFormatting(str(row[\"Course\"]))\n",
    "                curs = correctCourseName(for_name)\n",
    "                comp_trans_dfs.append((curs,section,inst,batch))"
   ]
  },
  {
   "attachments": {},
   "cell_type": "markdown",
   "metadata": {},
   "source": [
    "    SH Courses"
   ]
  },
  {
   "cell_type": "code",
   "execution_count": 9,
   "metadata": {},
   "outputs": [],
   "source": [
    "sh_df = pd.read_csv(\"sh.csv\")\n",
    "\n",
    "sh_df = sh_df.iloc[1:]\n",
    "sh_df.columns = sh_df.iloc[0]\n",
    "sh_df = sh_df.iloc[1:]\n",
    "sh_df = sh_df.iloc[:, : 6]\n",
    "\n",
    "sh_df.drop(columns=[\"CHs\",\"Code\"],axis=1,inplace=True)\n",
    "sh_df = sh_df.iloc[:123]"
   ]
  },
  {
   "cell_type": "code",
   "execution_count": 10,
   "metadata": {},
   "outputs": [],
   "source": [
    "sh_trans_dfs = []\n",
    "curs = np.nan\n",
    "batch = np.nan\n",
    "\n",
    "for i in range(0,sh_df.shape[0]):\n",
    "    row = sh_df.iloc[i]\n",
    "\n",
    "    if str(row[\"S.#\"]) != \"nan\":    #Section Started\n",
    "        batch = str(row[\"S.#\"])\n",
    "        for_name = correctFormatting(str(sh_df.iloc[i+1][\"Course\"]))\n",
    "        curs = correctCourseName(for_name)\n",
    "\n",
    "    else:\n",
    "\n",
    "        section = str(row[\"Section\"])        \n",
    "        inst = str(row[\"Course Instructor\"])\n",
    "\n",
    "        if str(row[\"Course\"]) == \"nan\":\n",
    "\n",
    "            sh_trans_dfs.append((curs,section,inst,batch))\n",
    "        else:\n",
    "            for_name = correctFormatting(str(row[\"Course\"]))\n",
    "            curs = correctCourseName(for_name)\n",
    "            sh_trans_dfs.append((curs,section,inst,batch))"
   ]
  },
  {
   "attachments": {},
   "cell_type": "markdown",
   "metadata": {},
   "source": [
    "    MG Courses"
   ]
  },
  {
   "cell_type": "code",
   "execution_count": 11,
   "metadata": {},
   "outputs": [],
   "source": [
    "mg_df = pd.read_csv(\"mg.csv\")\n",
    "\n",
    "mg_df = mg_df.iloc[1:]\n",
    "mg_df.columns = mg_df.iloc[0]\n",
    "mg_df = mg_df.iloc[1:]\n",
    "mg_df = mg_df.iloc[:, : 6]\n",
    "\n",
    "mg_df.drop(columns=[\"CHs\",\"Code\"],axis=1,inplace=True)"
   ]
  },
  {
   "cell_type": "code",
   "execution_count": 12,
   "metadata": {},
   "outputs": [],
   "source": [
    "mg_trans_dfs = []\n",
    "curs = np.nan\n",
    "batch = np.nan\n",
    "\n",
    "for i in range(0,mg_df.shape[0]):\n",
    "    row = mg_df.iloc[i]\n",
    "\n",
    "    if str(row[\"S.#\"]) != \"nan\":    #Section Started\n",
    "        batch = str(row[\"S.#\"])\n",
    "        for_name = correctFormatting(str(mg_df.iloc[i+1][\"Course\"]))\n",
    "        curs = correctCourseName(for_name)\n",
    "\n",
    "    else:\n",
    "\n",
    "        section = str(row[\"Section\"])        \n",
    "        inst = str(row[\"Course Instructor\"])\n",
    "\n",
    "        if str(row[\"Course\"]) == \"nan\":\n",
    "\n",
    "            mg_trans_dfs.append((curs,section,inst,batch))\n",
    "        else:\n",
    "            for_name = correctFormatting(str(row[\"Course\"]))\n",
    "            curs = correctCourseName(for_name)\n",
    "            mg_trans_dfs.append((curs,section,inst,batch))"
   ]
  },
  {
   "cell_type": "code",
   "execution_count": 13,
   "metadata": {},
   "outputs": [],
   "source": [
    "final_allele = []\n",
    "\n",
    "for i in comp_trans_dfs:\n",
    "    final_allele.append(i)\n",
    "\n",
    "for i in sh_trans_dfs:\n",
    "    final_allele.append(i)\n",
    "\n",
    "for i in mg_trans_dfs:\n",
    "    final_allele.append(i)"
   ]
  },
  {
   "cell_type": "code",
   "execution_count": 14,
   "metadata": {},
   "outputs": [],
   "source": [
    "df = pd.DataFrame()\n",
    "\n",
    "df[\"Allele\"] = final_allele\n",
    "\n",
    "df.to_csv(\"allele.csv\")"
   ]
  },
  {
   "cell_type": "code",
   "execution_count": 15,
   "metadata": {},
   "outputs": [],
   "source": [
    "df = pd.DataFrame()\n",
    "\n",
    "df[\"Rooms\"] = all_rooms\n",
    "\n",
    "df.to_csv(\"rooms.csv\")\n",
    "\n",
    "df = pd.DataFrame()\n",
    "\n",
    "df[\"Slots\"] = all_slots\n",
    "\n",
    "df.to_csv(\"slots.csv\")"
   ]
  }
 ],
 "metadata": {
  "kernelspec": {
   "display_name": "base",
   "language": "python",
   "name": "python3"
  },
  "language_info": {
   "codemirror_mode": {
    "name": "ipython",
    "version": 3
   },
   "file_extension": ".py",
   "mimetype": "text/x-python",
   "name": "python",
   "nbconvert_exporter": "python",
   "pygments_lexer": "ipython3",
   "version": "3.9.13"
  },
  "orig_nbformat": 4
 },
 "nbformat": 4,
 "nbformat_minor": 2
}
